{
 "cells": [
  {
   "cell_type": "markdown",
   "id": "c4a2032a",
   "metadata": {},
   "source": [
    "# TP0 : Introduction à la programmation avec Python"
   ]
  },
  {
   "cell_type": "markdown",
   "id": "a043afa3",
   "metadata": {},
   "source": [
    "Afin de compléter ce devoir, il vous est demander de suivre ce Jupyter Notebook.\n",
    "\n",
    "Pour ce faire, deux options s'offrent à vous :\n",
    "\n",
    "- Ouvrir le fichier __.ipynb__ dans [Google Colab](https://colab.research.google.com/).\n",
    "\n",
    "\n",
    "- Télécharger [Python](https://www.python.org/) sur votre ordinateur. \n",
    "    - Installer les librairies de base de calcul scientifique [SciPy](https://www.scipy.org/).\n",
    "    - Assurez-vous que <code>C:\\Users\\...\\Python39 </code> et <code>C:\\Users\\...\\Python39\\Scripts</code> soit ajouté dans votre PATH. Cela vous permettra d'appeler Python et ses librairies directement depuis l'invite de commande.\n",
    "    - Pour installer des librairies avec __pip__ qui viens avec Python, vous pouvez installer ces librairies en tapant la ligne suivant dans votre invite de commande : <code>python -m pip install --user numpy scipy matplotlib ipython jupyter pandas sympy nose</code>  \n",
    "    - Pour ouvrir Jupyter Notebook, ouvrez l'invite de commande et tapez <code>jupyter notebook</code>, un page web devrait alors s'ouvrir, vous permettant d'accéder à ce TP.\n",
    "    \n",
    "\n",
    "Afin de travailler efficacement en Python, il vous est également conseillé d'utiliser un environnement de développement afin d'avoir une interface graphique, comme celle présente avec MATLAB. Plusieurs IDE gratuit existe sur le web, mais nous vous recommandons particulièrement [VSCode](https://code.visualstudio.com/) ou [PyCharm](https://www.jetbrains.com/fr-fr/pycharm/). Les jupyter notebook peuvent également être accédé à partir de ces deux interfaces.\n",
    "\n",
    "<br>\n",
    "\n",
    "__Note__: Afin de vous simplifier la tâche, assurez-vous de cocher la\n",
    "case suivante lors de l'installation de Python."
   ]
  },
  {
   "cell_type": "markdown",
   "id": "5ac34d62",
   "metadata": {},
   "source": [
    "## 1. Vecteurs et fonctions\n",
    "\n",
    "En python, la librairie [Numpy](https://numpy.org/) est utilisée pour le calcul scientifique matriciel et permet de reproduire les opérations algébriques disponibles sous Matlab.\n",
    "\n",
    "Contrairement à Matlab, les librairies utilisées au cours du code doivent être explicitement importées au début de l'exécution du code. Une erreur à cette ligne indiquerait également que la librairie est mal installée sur votre ordinateur."
   ]
  },
  {
   "cell_type": "code",
   "execution_count": null,
   "id": "32abfe6b-777f-49ee-a315-c1468e1fcadf",
   "metadata": {},
   "outputs": [],
   "source": [
    "import numpy as np # numpy est une librairie permettant de réaliser la plupart des opérations algébriques disponibles sous matlab"
   ]
  },
  {
   "cell_type": "markdown",
   "id": "92495c02-c9e5-4076-a812-78a14e5c444b",
   "metadata": {},
   "source": [
    "__1.1__  À l'aide de la fonction [np.linspace()](https://numpy.org/doc/stable/reference/generated/numpy.linspace.html), créez un vecteur temps $t$  de 1001 points allant de 0 à 10."
   ]
  },
  {
   "cell_type": "code",
   "execution_count": null,
   "id": "626f64cb-d49e-4c79-8829-214493fe9209",
   "metadata": {},
   "outputs": [],
   "source": [
    "## solution\n"
   ]
  },
  {
   "cell_type": "markdown",
   "id": "c25d9fe2-faa7-4c37-b11a-b78f07f286a2",
   "metadata": {},
   "source": [
    "__1.2__ À l'aide de la fonction [np.arange()](https://numpy.org/doc/stable/reference/generated/numpy.arange.html), créez un vecteur $t$ allant de 0 à 2$\\pi$ avec un pas de $\\pi/20$."
   ]
  },
  {
   "cell_type": "code",
   "execution_count": null,
   "id": "d1633957-fea3-41ba-8e04-baf8aad7c4a8",
   "metadata": {},
   "outputs": [],
   "source": [
    "## solution\n",
    "\n"
   ]
  },
  {
   "cell_type": "markdown",
   "id": "77eae78b-1ac7-4b2f-91bc-c2003732ad72",
   "metadata": {},
   "source": [
    "__1.3__ Créez un vecteur des signaux $g(t)=\\cos(2\\pi f_0 t)$ pour $f_0=2$Hz sur une durée de 10 secondes. Ne pas utiliser de boucle for."
   ]
  },
  {
   "cell_type": "code",
   "execution_count": null,
   "id": "f5e11aa5-1142-4461-bfc2-40d1f43547cb",
   "metadata": {},
   "outputs": [],
   "source": [
    "## solution \n"
   ]
  },
  {
   "cell_type": "markdown",
   "id": "df80c368-176b-4e73-ad56-56570811da6f",
   "metadata": {},
   "source": [
    "1.4 Créez une fonction Python qui retourne la fonction de transfert d'un filtre passe-bande \n",
    "\n",
    "$$ H(j\\omega)=\\frac{1}{1+jQ\\left(x-1/x\\right)} $$\n",
    "\n",
    "avec $x=\\frac{\\omega}{\\omega_0}$\n",
    "\n",
    "\n",
    "note: le nombre complexe est défini par \"1.j\" avec numpy. Le prototype de la fonction vous est fourni. Ne pas utiliser de boucle for."
   ]
  },
  {
   "cell_type": "code",
   "execution_count": null,
   "id": "43bc90eb-cf2e-4fe3-8e12-600ed961ee1c",
   "metadata": {},
   "outputs": [],
   "source": [
    "def filtre_passe_bande(Q, omega0, omega_low, omega_high):\n",
    "    \n",
    "    \"\"\"\n",
    "    Q : facteur de qualité\n",
    "    omega0: fréquence centrale (rad)\n",
    "    [omega_low, omega_high] : plage fréquentiel pour définir le filtre\n",
    "    \n",
    "    \"\"\"\n",
    "    \n",
    "    \n",
    "    ## solution\n",
    "\n",
    "    \n",
    "    \n",
    "    ##solution\n",
    "    \n",
    "    \n",
    "    return omega, filtre"
   ]
  },
  {
   "cell_type": "markdown",
   "id": "26d63257-844c-4307-bae6-b21da9487067",
   "metadata": {},
   "source": [
    "## 2. Graphique avec Matplotlib ##\n",
    "\n",
    "De la même façon que Numpy permet de faire du calcul numérique, [matplotlib](https://matplotlib.org/) est utilisé afin de recréer la génération de graphique de Matlab."
   ]
  },
  {
   "cell_type": "code",
   "execution_count": null,
   "id": "2f15bb42-e98f-4c96-bef9-37857544dc41",
   "metadata": {},
   "outputs": [],
   "source": [
    "import matplotlib.pyplot as plt # Permet de tracer des graphiques et d'afficher des images\n",
    "plt.rcParams['figure.dpi'] = 100 # permet de définir la résolution\n"
   ]
  },
  {
   "cell_type": "markdown",
   "id": "4399d61a-b911-4ac9-b6ab-d80d9f10275a",
   "metadata": {},
   "source": [
    "__2.1__ À l'aide la fonction [plt.plot()](https://matplotlib.org/stable/api/_as_gen/matplotlib.pyplot.html#module-matplotlib.pyplot), tracez sur un même graphe la partie réelle et la partie imaginaire du filtre défini précédemment. Assurez-vous que votre graphe respecte les normes (axes, titre, etc.). Assurez-vous que votre graphe soit lisible. \n",
    "\n",
    "<!-- Astuces : Consultez la liste des fonctions disponibles. -->"
   ]
  },
  {
   "cell_type": "code",
   "execution_count": null,
   "id": "72b44c05-1b14-4b92-a45f-d372b2938bfa",
   "metadata": {},
   "outputs": [],
   "source": [
    "## Solution\n",
    "\n"
   ]
  },
  {
   "cell_type": "markdown",
   "id": "f18cd9ae-1877-4872-a5eb-0c80de66de55",
   "metadata": {},
   "source": [
    "__2.2__ De manière similaire à la question 2.1, tracez la réponse du filtre en échelle semilog selon l'axe y et puis selon l'axe x"
   ]
  },
  {
   "cell_type": "code",
   "execution_count": null,
   "id": "db303a1c-32dd-4bc1-a29e-1644d12e066c",
   "metadata": {},
   "outputs": [],
   "source": [
    "# solution en x\n",
    "\n"
   ]
  },
  {
   "cell_type": "code",
   "execution_count": null,
   "id": "50d19be5-3d0d-4070-ba83-36307edb3208",
   "metadata": {},
   "outputs": [],
   "source": [
    "# solution en y\n",
    "\n"
   ]
  },
  {
   "cell_type": "markdown",
   "id": "fab4646c-1811-45e7-844d-17980985a199",
   "metadata": {},
   "source": [
    "__2.3__ Avec la fonction [subplot()](https://matplotlib.org/stable/api/_as_gen/matplotlib.pyplot.subplot.html#matplotlib.pyplot.subplot), tracez les diagrammes de Bode du filtre (amplitude et phase) en deux graphiques côtes à côtes."
   ]
  },
  {
   "cell_type": "code",
   "execution_count": null,
   "id": "d5f45be5-a015-4f35-95a6-67b71f4bac38",
   "metadata": {},
   "outputs": [],
   "source": [
    "## Solution\n",
    "\n",
    "\n"
   ]
  },
  {
   "cell_type": "markdown",
   "id": "93943dc5-0769-4b30-b22d-2d2915386a8e",
   "metadata": {},
   "source": [
    "## 3. FFT ##"
   ]
  },
  {
   "cell_type": "markdown",
   "id": "1bcd49ae-9e11-4334-94b3-2c26aadfdd86",
   "metadata": {},
   "source": [
    "Effectuez et affichez la transformée de Fourier rapide (FFT) du signal $g(t)$ défini à la question 1.\n",
    "\n",
    "Les fonctions [np.fft.fft()](https://numpy.org/doc/stable/reference/routines.fft.html), [np.fft.fftshift()](https://numpy.org/doc/stable/reference/generated/numpy.fft.fftshift.html) et [np.fft.fftfreq](https://numpy.org/doc/stable/reference/generated/numpy.fft.fftfreq.html) vous serons utiles."
   ]
  },
  {
   "cell_type": "code",
   "execution_count": null,
   "id": "c8769c3c-a372-4a1f-9d62-6e4701959728",
   "metadata": {},
   "outputs": [],
   "source": [
    "## solution\n"
   ]
  },
  {
   "cell_type": "code",
   "execution_count": null,
   "id": "a3e18b42-3ce9-49f9-b0de-94c133c98e23",
   "metadata": {},
   "outputs": [],
   "source": [
    "## solution\n",
    "\n"
   ]
  },
  {
   "cell_type": "markdown",
   "id": "221084e8-c861-4ba8-b2c0-7abaea7a8b6e",
   "metadata": {},
   "source": [
    "## 4 Correlation et convolution ##"
   ]
  },
  {
   "cell_type": "markdown",
   "id": "ef254bdc-c40a-4998-98f6-1cf818ea0542",
   "metadata": {},
   "source": [
    "\n",
    "Le produit de convolution est défini par\n",
    "$$ f(t)* g(t) = \\int f(t)g(t-\\tau)d\\tau$$\n",
    "\n",
    "__4.1__ À l'aide de la fonction [np.convolve()](https://numpy.org/doc/stable/reference/generated/numpy.convolve.html), tracer le produit de convolution de votre signal $g(t)$ défini à la question 1 avec une fenêtre carrée. Portez particulièrement attention au paramètre \"mode\". On recommande la valeur \"same\"."
   ]
  },
  {
   "cell_type": "code",
   "execution_count": null,
   "id": "af7ce423-8981-428b-9108-4927f7a54140",
   "metadata": {},
   "outputs": [],
   "source": [
    "# solution\n"
   ]
  },
  {
   "cell_type": "markdown",
   "id": "acd57243-dec3-4bf8-ba68-e53b5e398d02",
   "metadata": {},
   "source": [
    "L'inter-corrélation est définie de manière similaire à la convolution, à un signe et conjugué prêt:\n",
    "$$ f(t)\\star g(t) = \\int f^*(t)g(t+\\tau)d\\tau$$\n",
    "\n",
    "L'inter-corrélation d'un signal est très utile en traitement de signal. Il permet notamment de déterminer le déphasage du signal par rapport à un signal de référence."
   ]
  },
  {
   "cell_type": "markdown",
   "id": "645756a0-5123-41b0-a1ea-0b6a591b4d46",
   "metadata": {},
   "source": [
    "__4.2__ En considérant $ g(t)$ de la question 1 comme étant le signal de référence, générez un signal $g_2(t)$ comportant un déphasage de $\\pi / 3$. \n",
    "\n",
    "Calculez et tracez ensuite l'inter-corrélation de celui-ci à l'aide de la fonction [np.correlate()](https://numpy.org/doc/stable/reference/generated/numpy.correlate.html). Portez particulièrement attention au paramètre \"mode\". On recommande la valeur \"same\"."
   ]
  },
  {
   "cell_type": "code",
   "execution_count": null,
   "id": "96610ee2-8515-4c32-9769-725cc346eefe",
   "metadata": {},
   "outputs": [],
   "source": [
    "## solution \n"
   ]
  },
  {
   "cell_type": "markdown",
   "id": "de4420d3-5d9a-425b-859e-afb7931e040d",
   "metadata": {},
   "source": [
    "__4.3__ Le déphasage peut être calculé en déterminant le décalage de la position du maxium de l'inter-corrélation.\n",
    "\n",
    "__Note__: On sait que le maximum de l'inter-corrélation se trouve au centre du vecteur en absence de déphasage.\n",
    "\n",
    "À l'aide de [np.argmax()](https://numpy.org/doc/stable/reference/generated/numpy.argmax.html), trouvez la position du maximum de l'inter-corrélation et par la suite, la valeur du déphasage. Comparez cette valeur avec la valeur réelle du déphasage.\n",
    "\n",
    "<!-- __Note__: Portez attention à la notion d'indice d'un vecteur et la valeur de l'indice du vecteur. -->"
   ]
  },
  {
   "cell_type": "code",
   "execution_count": null,
   "id": "e31127a8-685e-4d6b-92d3-74baec3fedde",
   "metadata": {},
   "outputs": [],
   "source": [
    "#solution\n"
   ]
  },
  {
   "cell_type": "markdown",
   "id": "8196f46a",
   "metadata": {},
   "source": [
    "### Interpolation\n",
    "\n",
    "Afin de raffiner notre approximation de la valeur du déphasage, nous aimerions avoir plus de points au voisinage du maximum de l'inter-correlation de la fonction $g(t)$. Nous allons alors utiliser la sous-librairie [interpolate](https://docs.scipy.org/doc/scipy/reference/interpolate.html) de Scipy."
   ]
  },
  {
   "cell_type": "code",
   "execution_count": null,
   "id": "c58732e2-4056-4efd-9f60-297af69d53bb",
   "metadata": {},
   "outputs": [],
   "source": [
    "from scipy import interpolate"
   ]
  },
  {
   "cell_type": "markdown",
   "id": "140142c2-b0c7-4355-8743-97eda24cc20f",
   "metadata": {},
   "source": [
    "__4.4__ Plus particulièrement, la fonction [interp1d](https://docs.scipy.org/doc/scipy/reference/generated/scipy.interpolate.interp1d.html) sera utilisé ici. À l'aide de cette dernière, réalisez une interpolation de type quadratique autour du maximum de l'inter-corrélation et calculez de nouveau le déphasage."
   ]
  },
  {
   "cell_type": "code",
   "execution_count": null,
   "id": "a89ffd52-5abe-4a56-90bd-be0fa5850bec",
   "metadata": {},
   "outputs": [],
   "source": [
    "# solution\n"
   ]
  },
  {
   "cell_type": "markdown",
   "id": "f747d14c-596a-41e1-9724-2577ea95d3cb",
   "metadata": {},
   "source": [
    "## 5. Curve fitting ##\n",
    "\n",
    "Finalement, nous allons explorer les capacités de curve fitting des librairies de calcul scientifiques de Python grâce à la fonction [curve_fit](https://docs.scipy.org/doc/scipy/reference/generated/scipy.optimize.curve_fit.html)."
   ]
  },
  {
   "cell_type": "code",
   "execution_count": null,
   "id": "c4a4cc17-9f35-4507-8cda-9b84c6945be9",
   "metadata": {},
   "outputs": [],
   "source": [
    "from scipy.optimize import curve_fit"
   ]
  },
  {
   "cell_type": "markdown",
   "id": "8ec95909-dd55-4994-9d6a-10ce2e7e2c68",
   "metadata": {},
   "source": [
    " Documentation https://docs.scipy.org/doc/scipy/reference/generated/scipy.optimize.curve_fit.html"
   ]
  },
  {
   "cell_type": "markdown",
   "id": "f478e633-bc88-40b1-b90a-d492e1799d1f",
   "metadata": {},
   "source": [
    "5.1 Cet exercice a pour but de réaliser un \"fit\" sur des données bruitées à partir d'un modèle prédéfini. L'objectif d'un tel exercice est de pouvoir récupérer les paramètres correspondants aux données observées. La première étape consiste à définir le modèle que l'on désire faire un \"fit\".\n",
    "\n",
    "\n",
    "En vous servant de la documentation de curve_fit, définissez une fonction retournant le diagramme de Bode du gain en amplitude. Cette fonction doit prendre comme paramètre le gain $Q$ et la fréquence centrale $\\omega_0$"
   ]
  },
  {
   "cell_type": "code",
   "execution_count": null,
   "id": "0feb6d82-03e3-45a6-a4e8-8f366f7d7e5f",
   "metadata": {},
   "outputs": [],
   "source": [
    "## solution\n"
   ]
  },
  {
   "cell_type": "markdown",
   "id": "8b44200c-3b81-4be7-91ce-0d96d149b145",
   "metadata": {},
   "source": [
    "__5.2__ À l'aide de cette fonction, obtenez alors deux versions du filtre : \n",
    "\n",
    "- La fonction $H(\\omega)$ de base.\n",
    "\n",
    "- La fonction $H(\\omega)$ parasité par du bruit.\n",
    "\n",
    "__Astuce__: servez-vous de la fonction [np.random.randn()](https://numpy.org/doc/stable/reference/random/generated/numpy.random.randn.html). La fonction [np.logspace()](https://numpy.org/doc/stable/reference/generated/numpy.logspace.html?highlight=logspace#numpy.logspace) pourra vous être utile également."
   ]
  },
  {
   "cell_type": "code",
   "execution_count": null,
   "id": "14218146-5e7e-41ba-93d5-0954f3097b14",
   "metadata": {},
   "outputs": [],
   "source": [
    "#solution\n"
   ]
  },
  {
   "cell_type": "markdown",
   "id": "7305836a-472b-474f-aca0-5385a0222194",
   "metadata": {},
   "source": [
    "__5.3__ À l'aide de la fonction <code>curve_fit</code>, réalisez un fit de vos données simulées à partir de votre modèle. Afficher un graphe comparatif complet. Vous aurez possiblement besoin de réaliser des ajustements pour obtenir un fit adéquat. Lisez la documentation et portez notamment attention au paramètre \"bounds\"."
   ]
  },
  {
   "cell_type": "code",
   "execution_count": null,
   "id": "9e7e7429-2647-4be0-8be8-1c8b412321e9",
   "metadata": {},
   "outputs": [],
   "source": [
    "#solution\n"
   ]
  },
  {
   "cell_type": "code",
   "execution_count": null,
   "id": "4c0f580b-3280-41f3-9f4a-c206b011866c",
   "metadata": {},
   "outputs": [],
   "source": [
    "# solution\n",
    "\n"
   ]
  },
  {
   "cell_type": "markdown",
   "id": "283ec187",
   "metadata": {},
   "source": [
    "## 6. Meshgrid ##"
   ]
  },
  {
   "cell_type": "markdown",
   "id": "94d8720d",
   "metadata": {},
   "source": [
    "À l'aide de la fonction  [np.meshgrid()](https://numpy.org/doc/stable/reference/generated/numpy.meshgrid.html), calculez la fonction Gaussienne en 2D."
   ]
  },
  {
   "cell_type": "code",
   "execution_count": null,
   "id": "fb62e79d",
   "metadata": {},
   "outputs": [],
   "source": [
    "# solution"
   ]
  },
  {
   "cell_type": "markdown",
   "id": "f8d09960",
   "metadata": {},
   "source": [
    "À l'aide la fonction [plt.imshow()](https://matplotlib.org/stable/api/_as_gen/matplotlib.pyplot.imshow.html), tracez maintenant la Gaussienne 2D. Définissez vos axes."
   ]
  },
  {
   "cell_type": "code",
   "execution_count": null,
   "id": "c8f0d446",
   "metadata": {},
   "outputs": [],
   "source": []
  }
 ],
 "metadata": {
  "kernelspec": {
   "display_name": "Python 3",
   "language": "python",
   "name": "python3"
  },
  "language_info": {
   "codemirror_mode": {
    "name": "ipython",
    "version": 3
   },
   "file_extension": ".py",
   "mimetype": "text/x-python",
   "name": "python",
   "nbconvert_exporter": "python",
   "pygments_lexer": "ipython3",
   "version": "3.8.10"
  }
 },
 "nbformat": 4,
 "nbformat_minor": 5
}
