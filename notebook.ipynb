{
 "cells": [
  {
   "cell_type": "markdown",
   "metadata": {},
   "source": [
    "Code fournit dans le fichier d'instructions qui affiche le graphique de Power Spectral Density d'environ 1 million d'échantillons. :)"
   ]
  },
  {
   "cell_type": "code",
   "execution_count": 1,
   "metadata": {},
   "outputs": [
    {
     "ename": "LibUSBError",
     "evalue": "<LIBUSB_ERROR_IO (-1): Input/output error> \"Could not open SDR (device index = 0)\"",
     "output_type": "error",
     "traceback": [
      "\u001b[1;31m---------------------------------------------------------------------------\u001b[0m",
      "\u001b[1;31mLibUSBError\u001b[0m                               Traceback (most recent call last)",
      "Cell \u001b[1;32mIn[1], line 7\u001b[0m\n\u001b[0;32m      5\u001b[0m \u001b[38;5;28;01mfrom\u001b[39;00m \u001b[38;5;21;01mrtlsdr\u001b[39;00m \u001b[38;5;28;01mimport\u001b[39;00m RtlSdr\n\u001b[0;32m      6\u001b[0m \u001b[38;5;66;03m# créer un objet connecté au module SDR\u001b[39;00m\n\u001b[1;32m----> 7\u001b[0m sdr \u001b[38;5;241m=\u001b[39m \u001b[43mRtlSdr\u001b[49m\u001b[43m(\u001b[49m\u001b[43m)\u001b[49m\n\u001b[0;32m      8\u001b[0m sdr\u001b[38;5;241m.\u001b[39msample_rate \u001b[38;5;241m=\u001b[39m RATE\n\u001b[0;32m      9\u001b[0m sdr\u001b[38;5;241m.\u001b[39mcenter_freq \u001b[38;5;241m=\u001b[39m FREQ\n",
      "File \u001b[1;32m~\\AppData\\Local\\Packages\\PythonSoftwareFoundation.Python.3.10_qbz5n2kfra8p0\\LocalCache\\local-packages\\Python310\\site-packages\\rtlsdr\\rtlsdr.py:133\u001b[0m, in \u001b[0;36mBaseRtlSdr.__init__\u001b[1;34m(self, device_index, test_mode_enabled, serial_number)\u001b[0m\n\u001b[0;32m    132\u001b[0m \u001b[38;5;28;01mdef\u001b[39;00m \u001b[38;5;21m__init__\u001b[39m(\u001b[38;5;28mself\u001b[39m, device_index\u001b[38;5;241m=\u001b[39m\u001b[38;5;241m0\u001b[39m, test_mode_enabled\u001b[38;5;241m=\u001b[39m\u001b[38;5;28;01mFalse\u001b[39;00m, serial_number\u001b[38;5;241m=\u001b[39m\u001b[38;5;28;01mNone\u001b[39;00m):\n\u001b[1;32m--> 133\u001b[0m     \u001b[38;5;28;43mself\u001b[39;49m\u001b[38;5;241;43m.\u001b[39;49m\u001b[43mopen\u001b[49m\u001b[43m(\u001b[49m\u001b[43mdevice_index\u001b[49m\u001b[43m,\u001b[49m\u001b[43m \u001b[49m\u001b[43mtest_mode_enabled\u001b[49m\u001b[43m,\u001b[49m\u001b[43m \u001b[49m\u001b[43mserial_number\u001b[49m\u001b[43m)\u001b[49m\n",
      "File \u001b[1;32m~\\AppData\\Local\\Packages\\PythonSoftwareFoundation.Python.3.10_qbz5n2kfra8p0\\LocalCache\\local-packages\\Python310\\site-packages\\rtlsdr\\rtlsdr.py:171\u001b[0m, in \u001b[0;36mBaseRtlSdr.open\u001b[1;34m(self, device_index, test_mode_enabled, serial_number)\u001b[0m\n\u001b[0;32m    169\u001b[0m result \u001b[38;5;241m=\u001b[39m librtlsdr\u001b[38;5;241m.\u001b[39mrtlsdr_open(\u001b[38;5;28mself\u001b[39m\u001b[38;5;241m.\u001b[39mdev_p, device_index)\n\u001b[0;32m    170\u001b[0m \u001b[38;5;28;01mif\u001b[39;00m result \u001b[38;5;241m<\u001b[39m \u001b[38;5;241m0\u001b[39m:\n\u001b[1;32m--> 171\u001b[0m     \u001b[38;5;28;01mraise\u001b[39;00m LibUSBError(result, \u001b[38;5;124m'\u001b[39m\u001b[38;5;124mCould not open SDR (device index = \u001b[39m\u001b[38;5;132;01m%d\u001b[39;00m\u001b[38;5;124m)\u001b[39m\u001b[38;5;124m'\u001b[39m \u001b[38;5;241m%\u001b[39m (device_index))\n\u001b[0;32m    173\u001b[0m \u001b[38;5;66;03m# enable test mode if necessary\u001b[39;00m\n\u001b[0;32m    174\u001b[0m result \u001b[38;5;241m=\u001b[39m librtlsdr\u001b[38;5;241m.\u001b[39mrtlsdr_set_testmode(\u001b[38;5;28mself\u001b[39m\u001b[38;5;241m.\u001b[39mdev_p, \u001b[38;5;28mint\u001b[39m(test_mode_enabled))\n",
      "\u001b[1;31mLibUSBError\u001b[0m: <LIBUSB_ERROR_IO (-1): Input/output error> \"Could not open SDR (device index = 0)\""
     ]
    }
   ],
   "source": [
    "# paramètres globaux\n",
    "RATE = 1024000\n",
    "FREQ = 95100000\n",
    "# importer la librairie du module SDR\n",
    "from rtlsdr import RtlSdr\n",
    "# créer un objet connecté au module SDR\n",
    "sdr = RtlSdr()\n",
    "sdr.sample_rate = RATE\n",
    "sdr.center_freq = FREQ\n",
    "sdr.gain = 'auto'\n",
    "# enregistrer des échantillons I/Q en nombres complexes\n",
    "samples = sdr.read_samples(1024*1024)\n",
    "sdr.close()\n",
    "# graphique de la densité spectrale de puissance\n",
    "import matplotlib.pyplot as plt\n",
    "# psd = Power Spectral Density\n",
    "plt.psd(samples, NFFT=2 ** 14, Fs=RATE / 1e6, Fc=FREQ / 1e6)\n",
    "plt.show()\n"
   ]
  },
  {
   "cell_type": "markdown",
   "metadata": {},
   "source": [
    "Enregistrement de 10 secondes du poste 91.9"
   ]
  },
  {
   "cell_type": "code",
   "execution_count": null,
   "metadata": {},
   "outputs": [],
   "source": []
  }
 ],
 "metadata": {
  "kernelspec": {
   "display_name": "Python 3",
   "language": "python",
   "name": "python3"
  },
  "language_info": {
   "codemirror_mode": {
    "name": "ipython",
    "version": 3
   },
   "file_extension": ".py",
   "mimetype": "text/x-python",
   "name": "python",
   "nbconvert_exporter": "python",
   "pygments_lexer": "ipython3",
   "version": "3.10.11"
  }
 },
 "nbformat": 4,
 "nbformat_minor": 2
}
